{
 "cells": [
  {
   "cell_type": "code",
   "execution_count": 1,
   "metadata": {},
   "outputs": [],
   "source": [
    "import pandas as pd\n",
    "import numpy as np\n",
    "import matplotlib.pyplot as plt\n",
    "import seaborn as sns\n",
    "from scipy import stats\n",
    "from scipy.stats import norm"
   ]
  },
  {
   "cell_type": "code",
   "execution_count": 2,
   "metadata": {},
   "outputs": [
    {
     "data": {
      "text/html": [
       "<div>\n",
       "<style scoped>\n",
       "    .dataframe tbody tr th:only-of-type {\n",
       "        vertical-align: middle;\n",
       "    }\n",
       "\n",
       "    .dataframe tbody tr th {\n",
       "        vertical-align: top;\n",
       "    }\n",
       "\n",
       "    .dataframe thead th {\n",
       "        text-align: right;\n",
       "    }\n",
       "</style>\n",
       "<table border=\"1\" class=\"dataframe\">\n",
       "  <thead>\n",
       "    <tr style=\"text-align: right;\">\n",
       "      <th></th>\n",
       "      <th>Customer</th>\n",
       "      <th>State</th>\n",
       "      <th>Customer Lifetime Value</th>\n",
       "      <th>Response</th>\n",
       "      <th>Coverage</th>\n",
       "      <th>Education</th>\n",
       "      <th>Effective To Date</th>\n",
       "      <th>EmploymentStatus</th>\n",
       "      <th>Gender</th>\n",
       "      <th>Income</th>\n",
       "      <th>...</th>\n",
       "      <th>Months Since Policy Inception</th>\n",
       "      <th>Number of Open Complaints</th>\n",
       "      <th>Number of Policies</th>\n",
       "      <th>Policy Type</th>\n",
       "      <th>Policy</th>\n",
       "      <th>Renew Offer Type</th>\n",
       "      <th>Sales Channel</th>\n",
       "      <th>Total Claim Amount</th>\n",
       "      <th>Vehicle Class</th>\n",
       "      <th>Vehicle Size</th>\n",
       "    </tr>\n",
       "  </thead>\n",
       "  <tbody>\n",
       "    <tr>\n",
       "      <th>0</th>\n",
       "      <td>BU79786</td>\n",
       "      <td>Washington</td>\n",
       "      <td>2763.519279</td>\n",
       "      <td>No</td>\n",
       "      <td>Basic</td>\n",
       "      <td>Bachelor</td>\n",
       "      <td>2/24/11</td>\n",
       "      <td>Employed</td>\n",
       "      <td>F</td>\n",
       "      <td>56274</td>\n",
       "      <td>...</td>\n",
       "      <td>5</td>\n",
       "      <td>0</td>\n",
       "      <td>1</td>\n",
       "      <td>Corporate Auto</td>\n",
       "      <td>Corporate L3</td>\n",
       "      <td>Offer1</td>\n",
       "      <td>Agent</td>\n",
       "      <td>384.811147</td>\n",
       "      <td>Two-Door Car</td>\n",
       "      <td>Medsize</td>\n",
       "    </tr>\n",
       "    <tr>\n",
       "      <th>1</th>\n",
       "      <td>QZ44356</td>\n",
       "      <td>Arizona</td>\n",
       "      <td>6979.535903</td>\n",
       "      <td>No</td>\n",
       "      <td>Extended</td>\n",
       "      <td>Bachelor</td>\n",
       "      <td>1/31/11</td>\n",
       "      <td>Unemployed</td>\n",
       "      <td>F</td>\n",
       "      <td>0</td>\n",
       "      <td>...</td>\n",
       "      <td>42</td>\n",
       "      <td>0</td>\n",
       "      <td>8</td>\n",
       "      <td>Personal Auto</td>\n",
       "      <td>Personal L3</td>\n",
       "      <td>Offer3</td>\n",
       "      <td>Agent</td>\n",
       "      <td>1131.464935</td>\n",
       "      <td>Four-Door Car</td>\n",
       "      <td>Medsize</td>\n",
       "    </tr>\n",
       "    <tr>\n",
       "      <th>2</th>\n",
       "      <td>AI49188</td>\n",
       "      <td>Nevada</td>\n",
       "      <td>12887.431650</td>\n",
       "      <td>No</td>\n",
       "      <td>Premium</td>\n",
       "      <td>Bachelor</td>\n",
       "      <td>2/19/11</td>\n",
       "      <td>Employed</td>\n",
       "      <td>F</td>\n",
       "      <td>48767</td>\n",
       "      <td>...</td>\n",
       "      <td>38</td>\n",
       "      <td>0</td>\n",
       "      <td>2</td>\n",
       "      <td>Personal Auto</td>\n",
       "      <td>Personal L3</td>\n",
       "      <td>Offer1</td>\n",
       "      <td>Agent</td>\n",
       "      <td>566.472247</td>\n",
       "      <td>Two-Door Car</td>\n",
       "      <td>Medsize</td>\n",
       "    </tr>\n",
       "    <tr>\n",
       "      <th>3</th>\n",
       "      <td>WW63253</td>\n",
       "      <td>California</td>\n",
       "      <td>7645.861827</td>\n",
       "      <td>No</td>\n",
       "      <td>Basic</td>\n",
       "      <td>Bachelor</td>\n",
       "      <td>1/20/11</td>\n",
       "      <td>Unemployed</td>\n",
       "      <td>M</td>\n",
       "      <td>0</td>\n",
       "      <td>...</td>\n",
       "      <td>65</td>\n",
       "      <td>0</td>\n",
       "      <td>7</td>\n",
       "      <td>Corporate Auto</td>\n",
       "      <td>Corporate L2</td>\n",
       "      <td>Offer1</td>\n",
       "      <td>Call Center</td>\n",
       "      <td>529.881344</td>\n",
       "      <td>SUV</td>\n",
       "      <td>Medsize</td>\n",
       "    </tr>\n",
       "    <tr>\n",
       "      <th>4</th>\n",
       "      <td>HB64268</td>\n",
       "      <td>Washington</td>\n",
       "      <td>2813.692575</td>\n",
       "      <td>No</td>\n",
       "      <td>Basic</td>\n",
       "      <td>Bachelor</td>\n",
       "      <td>2/3/11</td>\n",
       "      <td>Employed</td>\n",
       "      <td>M</td>\n",
       "      <td>43836</td>\n",
       "      <td>...</td>\n",
       "      <td>44</td>\n",
       "      <td>0</td>\n",
       "      <td>1</td>\n",
       "      <td>Personal Auto</td>\n",
       "      <td>Personal L1</td>\n",
       "      <td>Offer1</td>\n",
       "      <td>Agent</td>\n",
       "      <td>138.130879</td>\n",
       "      <td>Four-Door Car</td>\n",
       "      <td>Medsize</td>\n",
       "    </tr>\n",
       "  </tbody>\n",
       "</table>\n",
       "<p>5 rows × 24 columns</p>\n",
       "</div>"
      ],
      "text/plain": [
       "  Customer       State  Customer Lifetime Value Response  Coverage Education  \\\n",
       "0  BU79786  Washington              2763.519279       No     Basic  Bachelor   \n",
       "1  QZ44356     Arizona              6979.535903       No  Extended  Bachelor   \n",
       "2  AI49188      Nevada             12887.431650       No   Premium  Bachelor   \n",
       "3  WW63253  California              7645.861827       No     Basic  Bachelor   \n",
       "4  HB64268  Washington              2813.692575       No     Basic  Bachelor   \n",
       "\n",
       "  Effective To Date EmploymentStatus Gender  Income  ...  \\\n",
       "0           2/24/11         Employed      F   56274  ...   \n",
       "1           1/31/11       Unemployed      F       0  ...   \n",
       "2           2/19/11         Employed      F   48767  ...   \n",
       "3           1/20/11       Unemployed      M       0  ...   \n",
       "4            2/3/11         Employed      M   43836  ...   \n",
       "\n",
       "  Months Since Policy Inception Number of Open Complaints  Number of Policies  \\\n",
       "0                             5                         0                   1   \n",
       "1                            42                         0                   8   \n",
       "2                            38                         0                   2   \n",
       "3                            65                         0                   7   \n",
       "4                            44                         0                   1   \n",
       "\n",
       "      Policy Type        Policy  Renew Offer Type  Sales Channel  \\\n",
       "0  Corporate Auto  Corporate L3            Offer1          Agent   \n",
       "1   Personal Auto   Personal L3            Offer3          Agent   \n",
       "2   Personal Auto   Personal L3            Offer1          Agent   \n",
       "3  Corporate Auto  Corporate L2            Offer1    Call Center   \n",
       "4   Personal Auto   Personal L1            Offer1          Agent   \n",
       "\n",
       "  Total Claim Amount  Vehicle Class Vehicle Size  \n",
       "0         384.811147   Two-Door Car      Medsize  \n",
       "1        1131.464935  Four-Door Car      Medsize  \n",
       "2         566.472247   Two-Door Car      Medsize  \n",
       "3         529.881344            SUV      Medsize  \n",
       "4         138.130879  Four-Door Car      Medsize  \n",
       "\n",
       "[5 rows x 24 columns]"
      ]
     },
     "execution_count": 2,
     "metadata": {},
     "output_type": "execute_result"
    }
   ],
   "source": [
    "customer_df = pd.read_csv('we_fn_use_c_marketing_customer_value_analysis.csv')\n",
    "customer_df.shape\n",
    "customer_df.head(5)"
   ]
  },
  {
   "cell_type": "code",
   "execution_count": 3,
   "metadata": {},
   "outputs": [
    {
     "data": {
      "text/html": [
       "<div>\n",
       "<style scoped>\n",
       "    .dataframe tbody tr th:only-of-type {\n",
       "        vertical-align: middle;\n",
       "    }\n",
       "\n",
       "    .dataframe tbody tr th {\n",
       "        vertical-align: top;\n",
       "    }\n",
       "\n",
       "    .dataframe thead th {\n",
       "        text-align: right;\n",
       "    }\n",
       "</style>\n",
       "<table border=\"1\" class=\"dataframe\">\n",
       "  <thead>\n",
       "    <tr style=\"text-align: right;\">\n",
       "      <th></th>\n",
       "      <th>Customer Lifetime Value</th>\n",
       "      <th>Income</th>\n",
       "      <th>Monthly Premium Auto</th>\n",
       "      <th>Months Since Last Claim</th>\n",
       "      <th>Months Since Policy Inception</th>\n",
       "      <th>Number of Open Complaints</th>\n",
       "      <th>Number of Policies</th>\n",
       "      <th>Total Claim Amount</th>\n",
       "    </tr>\n",
       "  </thead>\n",
       "  <tbody>\n",
       "    <tr>\n",
       "      <th>0</th>\n",
       "      <td>2763</td>\n",
       "      <td>56274</td>\n",
       "      <td>69</td>\n",
       "      <td>32</td>\n",
       "      <td>5</td>\n",
       "      <td>0</td>\n",
       "      <td>1</td>\n",
       "      <td>384</td>\n",
       "    </tr>\n",
       "    <tr>\n",
       "      <th>1</th>\n",
       "      <td>6979</td>\n",
       "      <td>0</td>\n",
       "      <td>94</td>\n",
       "      <td>13</td>\n",
       "      <td>42</td>\n",
       "      <td>0</td>\n",
       "      <td>8</td>\n",
       "      <td>1131</td>\n",
       "    </tr>\n",
       "    <tr>\n",
       "      <th>2</th>\n",
       "      <td>12887</td>\n",
       "      <td>48767</td>\n",
       "      <td>108</td>\n",
       "      <td>18</td>\n",
       "      <td>38</td>\n",
       "      <td>0</td>\n",
       "      <td>2</td>\n",
       "      <td>566</td>\n",
       "    </tr>\n",
       "    <tr>\n",
       "      <th>3</th>\n",
       "      <td>7645</td>\n",
       "      <td>0</td>\n",
       "      <td>106</td>\n",
       "      <td>18</td>\n",
       "      <td>65</td>\n",
       "      <td>0</td>\n",
       "      <td>7</td>\n",
       "      <td>529</td>\n",
       "    </tr>\n",
       "    <tr>\n",
       "      <th>4</th>\n",
       "      <td>2813</td>\n",
       "      <td>43836</td>\n",
       "      <td>73</td>\n",
       "      <td>12</td>\n",
       "      <td>44</td>\n",
       "      <td>0</td>\n",
       "      <td>1</td>\n",
       "      <td>138</td>\n",
       "    </tr>\n",
       "  </tbody>\n",
       "</table>\n",
       "</div>"
      ],
      "text/plain": [
       "   Customer Lifetime Value  Income  Monthly Premium Auto  \\\n",
       "0                     2763   56274                    69   \n",
       "1                     6979       0                    94   \n",
       "2                    12887   48767                   108   \n",
       "3                     7645       0                   106   \n",
       "4                     2813   43836                    73   \n",
       "\n",
       "   Months Since Last Claim  Months Since Policy Inception  \\\n",
       "0                       32                              5   \n",
       "1                       13                             42   \n",
       "2                       18                             38   \n",
       "3                       18                             65   \n",
       "4                       12                             44   \n",
       "\n",
       "   Number of Open Complaints  Number of Policies  Total Claim Amount  \n",
       "0                          0                   1                 384  \n",
       "1                          0                   8                1131  \n",
       "2                          0                   2                 566  \n",
       "3                          0                   7                 529  \n",
       "4                          0                   1                 138  "
      ]
     },
     "execution_count": 3,
     "metadata": {},
     "output_type": "execute_result"
    }
   ],
   "source": [
    "#Get the numerical variables from our dataset.\n",
    "numerical = customer_df.select_dtypes(include=[np.number]).astype(int)\n",
    "numerical.head(5)"
   ]
  },
  {
   "cell_type": "code",
   "execution_count": 4,
   "metadata": {},
   "outputs": [
    {
     "data": {
      "text/plain": [
       "Customer Lifetime Value           8004\n",
       "Income                           37657\n",
       "Monthly Premium Auto                93\n",
       "Months Since Last Claim             15\n",
       "Months Since Policy Inception       48\n",
       "Number of Open Complaints            0\n",
       "Number of Policies                   2\n",
       "Total Claim Amount                 433\n",
       "dtype: int64"
      ]
     },
     "execution_count": 4,
     "metadata": {},
     "output_type": "execute_result"
    }
   ],
   "source": [
    "mean = numerical.mean(axis=0).astype(int)\n",
    "mean"
   ]
  },
  {
   "cell_type": "code",
   "execution_count": 5,
   "metadata": {},
   "outputs": [
    {
     "data": {
      "text/plain": [
       "Customer Lifetime Value           6870\n",
       "Income                           30379\n",
       "Monthly Premium Auto                34\n",
       "Months Since Last Claim             10\n",
       "Months Since Policy Inception       27\n",
       "Number of Open Complaints            0\n",
       "Number of Policies                   2\n",
       "Total Claim Amount                 290\n",
       "dtype: int64"
      ]
     },
     "execution_count": 5,
     "metadata": {},
     "output_type": "execute_result"
    }
   ],
   "source": [
    "sd = numerical.std(axis = 0).astype(int)\n",
    "sd "
   ]
  },
  {
   "cell_type": "code",
   "execution_count": 6,
   "metadata": {},
   "outputs": [
    {
     "data": {
      "text/plain": [
       "(array([  1.,   1.,   0.,   0.,   1.,   1.,   0.,   0.,   0.,   0.,   4.,\n",
       "          3.,   2.,   9.,   9.,  13.,   7.,   9.,   8.,  16.,  23.,  23.,\n",
       "         43.,  30.,  36.,  36.,  54.,  77.,  71.,  86.,  90., 102., 125.,\n",
       "        115., 119., 158., 178., 212., 211., 255., 249., 239., 284., 296.,\n",
       "        280., 257., 285., 348., 315., 307., 322., 317., 298., 281., 290.,\n",
       "        309., 281., 273., 241., 230., 228., 208., 199., 187., 158., 144.,\n",
       "        134., 140., 102.,  95.,  89.,  82.,  75.,  34.,  40.,  49.,  42.,\n",
       "         18.,  30.,  19.,  27.,  17.,  12.,   9.,   6.,   2.,   5.,   4.,\n",
       "          4.,   6.,   1.,   1.,   0.,   0.,   1.,   0.,   0.,   0.,   1.,\n",
       "          1.]),\n",
       " array([-19479.5119696 , -18932.51478318, -18385.51759675, -17838.52041033,\n",
       "        -17291.5232239 , -16744.52603748, -16197.52885105, -15650.53166463,\n",
       "        -15103.5344782 , -14556.53729177, -14009.54010535, -13462.54291892,\n",
       "        -12915.5457325 , -12368.54854607, -11821.55135965, -11274.55417322,\n",
       "        -10727.55698679, -10180.55980037,  -9633.56261394,  -9086.56542752,\n",
       "         -8539.56824109,  -7992.57105467,  -7445.57386824,  -6898.57668181,\n",
       "         -6351.57949539,  -5804.58230896,  -5257.58512254,  -4710.58793611,\n",
       "         -4163.59074969,  -3616.59356326,  -3069.59637684,  -2522.59919041,\n",
       "         -1975.60200398,  -1428.60481756,   -881.60763113,   -334.61044471,\n",
       "           212.38674172,    759.38392814,   1306.38111457,   1853.378301  ,\n",
       "          2400.37548742,   2947.37267385,   3494.36986027,   4041.3670467 ,\n",
       "          4588.36423312,   5135.36141955,   5682.35860598,   6229.3557924 ,\n",
       "          6776.35297883,   7323.35016525,   7870.34735168,   8417.3445381 ,\n",
       "          8964.34172453,   9511.33891095,  10058.33609738,  10605.33328381,\n",
       "         11152.33047023,  11699.32765666,  12246.32484308,  12793.32202951,\n",
       "         13340.31921593,  13887.31640236,  14434.31358879,  14981.31077521,\n",
       "         15528.30796164,  16075.30514806,  16622.30233449,  17169.29952091,\n",
       "         17716.29670734,  18263.29389376,  18810.29108019,  19357.28826662,\n",
       "         19904.28545304,  20451.28263947,  20998.27982589,  21545.27701232,\n",
       "         22092.27419874,  22639.27138517,  23186.2685716 ,  23733.26575802,\n",
       "         24280.26294445,  24827.26013087,  25374.2573173 ,  25921.25450372,\n",
       "         26468.25169015,  27015.24887658,  27562.246063  ,  28109.24324943,\n",
       "         28656.24043585,  29203.23762228,  29750.2348087 ,  30297.23199513,\n",
       "         30844.22918155,  31391.22636798,  31938.22355441,  32485.22074083,\n",
       "         33032.21792726,  33579.21511368,  34126.21230011,  34673.20948653,\n",
       "         35220.20667296]),\n",
       " <BarContainer object of 100 artists>)"
      ]
     },
     "execution_count": 6,
     "metadata": {},
     "output_type": "execute_result"
    },
    {
     "data": {
      "image/png": "[encoded data removed]",
      "text/plain": [
       "<Figure size 432x288 with 1 Axes>"
      ]
     },
     "metadata": {
      "needs_background": "light"
     },
     "output_type": "display_data"
    }
   ],
   "source": [
    "# checking normality for each column.\n",
    "Value0 = np.random.normal(loc=mean[0],scale=sd[0], size=10000)\n",
    "plt.hist(Value0,100)"
   ]
  },
  {
   "cell_type": "code",
   "execution_count": 7,
   "metadata": {},
   "outputs": [
    {
     "data": {
      "text/plain": [
       "(array([  2.,   3.,   4.,   7.,   1.,   5.,   8.,   8.,   8.,  11.,  20.,\n",
       "         18.,  23.,  26.,  28.,  50.,  50.,  55.,  75.,  90., 104.,  96.,\n",
       "         88., 104., 139., 169., 175., 189., 204., 231., 230., 258., 263.,\n",
       "        282., 349., 293., 315., 323., 321., 321., 350., 343., 337., 320.,\n",
       "        302., 298., 285., 280., 240., 240., 245., 214., 176., 178., 167.,\n",
       "        163., 140., 109., 118.,  76.,  71.,  78.,  52.,  46.,  44.,  40.,\n",
       "         22.,  28.,  22.,  12.,  18.,  11.,   6.,   3.,   2.,   7.,   2.,\n",
       "          0.,   1.,   1.,   1.,   1.,   1.,   2.,   0.,   1.,   0.,   0.,\n",
       "          0.,   0.,   0.,   0.,   0.,   0.,   0.,   0.,   0.,   0.,   0.,\n",
       "          1.]),\n",
       " array([-64760.64117754, -62212.36389333, -59664.08660911, -57115.80932489,\n",
       "        -54567.53204067, -52019.25475645, -49470.97747223, -46922.70018801,\n",
       "        -44374.42290379, -41826.14561957, -39277.86833535, -36729.59105114,\n",
       "        -34181.31376692, -31633.0364827 , -29084.75919848, -26536.48191426,\n",
       "        -23988.20463004, -21439.92734582, -18891.6500616 , -16343.37277738,\n",
       "        -13795.09549316, -11246.81820894,  -8698.54092473,  -6150.26364051,\n",
       "         -3601.98635629,  -1053.70907207,   1494.56821215,   4042.84549637,\n",
       "          6591.12278059,   9139.40006481,  11687.67734903,  14235.95463325,\n",
       "         16784.23191746,  19332.50920168,  21880.7864859 ,  24429.06377012,\n",
       "         26977.34105434,  29525.61833856,  32073.89562278,  34622.172907  ,\n",
       "         37170.45019122,  39718.72747544,  42267.00475965,  44815.28204387,\n",
       "         47363.55932809,  49911.83661231,  52460.11389653,  55008.39118075,\n",
       "         57556.66846497,  60104.94574919,  62653.22303341,  65201.50031763,\n",
       "         67749.77760184,  70298.05488606,  72846.33217028,  75394.6094545 ,\n",
       "         77942.88673872,  80491.16402294,  83039.44130716,  85587.71859138,\n",
       "         88135.9958756 ,  90684.27315982,  93232.55044403,  95780.82772825,\n",
       "         98329.10501247, 100877.38229669, 103425.65958091, 105973.93686513,\n",
       "        108522.21414935, 111070.49143357, 113618.76871779, 116167.04600201,\n",
       "        118715.32328622, 121263.60057044, 123811.87785466, 126360.15513888,\n",
       "        128908.4324231 , 131456.70970732, 134004.98699154, 136553.26427576,\n",
       "        139101.54155998, 141649.8188442 , 144198.09612841, 146746.37341263,\n",
       "        149294.65069685, 151842.92798107, 154391.20526529, 156939.48254951,\n",
       "        159487.75983373, 162036.03711795, 164584.31440217, 167132.59168639,\n",
       "        169680.8689706 , 172229.14625482, 174777.42353904, 177325.70082326,\n",
       "        179873.97810748, 182422.2553917 , 184970.53267592, 187518.80996014,\n",
       "        190067.08724436]),\n",
       " <BarContainer object of 100 artists>)"
      ]
     },
     "execution_count": 7,
     "metadata": {},
     "output_type": "execute_result"
    },
    {
     "data": {
      "image/png": "[encoded data removed]",
      "text/plain": [
       "<Figure size 432x288 with 1 Axes>"
      ]
     },
     "metadata": {
      "needs_background": "light"
     },
     "output_type": "display_data"
    }
   ],
   "source": [
    "Value1 = np.random.normal(loc=mean[1],scale=sd[1], size=10000)\n",
    "plt.hist(Value1,100)"
   ]
  },
  {
   "cell_type": "code",
   "execution_count": 8,
   "metadata": {},
   "outputs": [
    {
     "data": {
      "text/plain": [
       "(array([  1.,   1.,   0.,   0.,   0.,   0.,   3.,   1.,   2.,   5.,   8.,\n",
       "          4.,   6.,   5.,  10.,  14.,  15.,  13.,  14.,  21.,  22.,  20.,\n",
       "         33.,  38.,  33.,  61.,  58.,  76.,  76.,  97., 105., 132., 104.,\n",
       "        140., 140., 150., 172., 201., 213., 209., 226., 237., 249., 270.,\n",
       "        259., 260., 270., 274., 293., 295., 300., 299., 275., 311., 283.,\n",
       "        252., 254., 258., 244., 237., 224., 215., 203., 185., 179., 170.,\n",
       "        152., 144., 122., 104., 104.,  92.,  68.,  60.,  61.,  59.,  50.,\n",
       "         45.,  34.,  36.,  31.,  21.,  13.,  20.,  15.,  14.,   3.,   2.,\n",
       "          5.,   4.,   6.,   2.,   0.,   2.,   0.,   3.,   1.,   0.,   0.,\n",
       "          2.]),\n",
       " array([-3.54787806e+01, -3.29362200e+01, -3.03936593e+01, -2.78510986e+01,\n",
       "        -2.53085379e+01, -2.27659772e+01, -2.02234165e+01, -1.76808558e+01,\n",
       "        -1.51382952e+01, -1.25957345e+01, -1.00531738e+01, -7.51061311e+00,\n",
       "        -4.96805243e+00, -2.42549174e+00,  1.17068943e-01,  2.65962963e+00,\n",
       "         5.20219031e+00,  7.74475100e+00,  1.02873117e+01,  1.28298724e+01,\n",
       "         1.53724330e+01,  1.79149937e+01,  2.04575544e+01,  2.30001151e+01,\n",
       "         2.55426758e+01,  2.80852365e+01,  3.06277972e+01,  3.31703578e+01,\n",
       "         3.57129185e+01,  3.82554792e+01,  4.07980399e+01,  4.33406006e+01,\n",
       "         4.58831613e+01,  4.84257219e+01,  5.09682826e+01,  5.35108433e+01,\n",
       "         5.60534040e+01,  5.85959647e+01,  6.11385254e+01,  6.36810860e+01,\n",
       "         6.62236467e+01,  6.87662074e+01,  7.13087681e+01,  7.38513288e+01,\n",
       "         7.63938895e+01,  7.89364502e+01,  8.14790108e+01,  8.40215715e+01,\n",
       "         8.65641322e+01,  8.91066929e+01,  9.16492536e+01,  9.41918143e+01,\n",
       "         9.67343749e+01,  9.92769356e+01,  1.01819496e+02,  1.04362057e+02,\n",
       "         1.06904618e+02,  1.09447178e+02,  1.11989739e+02,  1.14532300e+02,\n",
       "         1.17074860e+02,  1.19617421e+02,  1.22159982e+02,  1.24702542e+02,\n",
       "         1.27245103e+02,  1.29787664e+02,  1.32330225e+02,  1.34872785e+02,\n",
       "         1.37415346e+02,  1.39957907e+02,  1.42500467e+02,  1.45043028e+02,\n",
       "         1.47585589e+02,  1.50128149e+02,  1.52670710e+02,  1.55213271e+02,\n",
       "         1.57755831e+02,  1.60298392e+02,  1.62840953e+02,  1.65383513e+02,\n",
       "         1.67926074e+02,  1.70468635e+02,  1.73011195e+02,  1.75553756e+02,\n",
       "         1.78096317e+02,  1.80638878e+02,  1.83181438e+02,  1.85723999e+02,\n",
       "         1.88266560e+02,  1.90809120e+02,  1.93351681e+02,  1.95894242e+02,\n",
       "         1.98436802e+02,  2.00979363e+02,  2.03521924e+02,  2.06064484e+02,\n",
       "         2.08607045e+02,  2.11149606e+02,  2.13692166e+02,  2.16234727e+02,\n",
       "         2.18777288e+02]),\n",
       " <BarContainer object of 100 artists>)"
      ]
     },
     "execution_count": 8,
     "metadata": {},
     "output_type": "execute_result"
    },
    {
     "data": {
      "image/png": "[encoded data removed]",
      "text/plain": [
       "<Figure size 432x288 with 1 Axes>"
      ]
     },
     "metadata": {
      "needs_background": "light"
     },
     "output_type": "display_data"
    }
   ],
   "source": [
    "Value2 = np.random.normal(loc=mean[2],scale=sd[2], size=10000)\n",
    "plt.hist(Value2,100)"
   ]
  },
  {
   "cell_type": "code",
   "execution_count": 9,
   "metadata": {},
   "outputs": [
    {
     "data": {
      "text/plain": [
       "(array([  1.,   0.,   0.,   0.,   1.,   0.,   0.,   3.,   2.,   2.,   1.,\n",
       "          4.,   2.,   7.,   9.,   4.,   8.,   6.,  17.,   7.,  15.,  16.,\n",
       "         29.,  34.,  40.,  42.,  56.,  59.,  71.,  69.,  62., 108., 110.,\n",
       "        130., 139., 138., 162., 176., 175., 208., 182., 235., 223., 275.,\n",
       "        263., 269., 270., 306., 292., 274., 292., 269., 321., 311., 299.,\n",
       "        332., 288., 261., 281., 272., 230., 240., 219., 184., 189., 159.,\n",
       "        177., 128., 128., 124., 121.,  89.,  68.,  67.,  73.,  64.,  70.,\n",
       "         38.,  39.,  27.,  21.,  26.,  20.,  13.,  10.,   9.,   8.,   6.,\n",
       "          5.,   5.,   6.,   0.,   3.,   1.,   0.,   1.,   1.,   1.,   1.,\n",
       "          1.]),\n",
       " array([-24.40014841, -23.63433395, -22.86851949, -22.10270503,\n",
       "        -21.33689057, -20.57107611, -19.80526165, -19.03944719,\n",
       "        -18.27363273, -17.50781827, -16.74200381, -15.97618935,\n",
       "        -15.21037489, -14.44456043, -13.67874597, -12.91293151,\n",
       "        -12.14711705, -11.38130259, -10.61548813,  -9.84967367,\n",
       "         -9.08385921,  -8.31804475,  -7.55223029,  -6.78641583,\n",
       "         -6.02060137,  -5.2547869 ,  -4.48897244,  -3.72315798,\n",
       "         -2.95734352,  -2.19152906,  -1.4257146 ,  -0.65990014,\n",
       "          0.10591432,   0.87172878,   1.63754324,   2.4033577 ,\n",
       "          3.16917216,   3.93498662,   4.70080108,   5.46661554,\n",
       "          6.23243   ,   6.99824446,   7.76405892,   8.52987338,\n",
       "          9.29568784,  10.0615023 ,  10.82731676,  11.59313122,\n",
       "         12.35894568,  13.12476014,  13.8905746 ,  14.65638906,\n",
       "         15.42220352,  16.18801798,  16.95383244,  17.7196469 ,\n",
       "         18.48546136,  19.25127582,  20.01709028,  20.78290474,\n",
       "         21.5487192 ,  22.31453366,  23.08034812,  23.84616258,\n",
       "         24.61197704,  25.3777915 ,  26.14360596,  26.90942042,\n",
       "         27.67523488,  28.44104934,  29.20686381,  29.97267827,\n",
       "         30.73849273,  31.50430719,  32.27012165,  33.03593611,\n",
       "         33.80175057,  34.56756503,  35.33337949,  36.09919395,\n",
       "         36.86500841,  37.63082287,  38.39663733,  39.16245179,\n",
       "         39.92826625,  40.69408071,  41.45989517,  42.22570963,\n",
       "         42.99152409,  43.75733855,  44.52315301,  45.28896747,\n",
       "         46.05478193,  46.82059639,  47.58641085,  48.35222531,\n",
       "         49.11803977,  49.88385423,  50.64966869,  51.41548315,\n",
       "         52.18129761]),\n",
       " <BarContainer object of 100 artists>)"
      ]
     },
     "execution_count": 9,
     "metadata": {},
     "output_type": "execute_result"
    },
    {
     "data": {
      "image/png": "[encoded data removed]",
      "text/plain": [
       "<Figure size 432x288 with 1 Axes>"
      ]
     },
     "metadata": {
      "needs_background": "light"
     },
     "output_type": "display_data"
    }
   ],
   "source": [
    "Value3 = np.random.normal(loc=mean[3],scale=sd[3], size=10000)\n",
    "plt.hist(Value3,100)"
   ]
  },
  {
   "cell_type": "code",
   "execution_count": 10,
   "metadata": {},
   "outputs": [
    {
     "data": {
      "text/plain": [
       "(array([  1.,   0.,   0.,   0.,   1.,   0.,   0.,   0.,   2.,   1.,   4.,\n",
       "          4.,   8.,   1.,   4.,   4.,   7.,  11.,  10.,  15.,  20.,  15.,\n",
       "         28.,  18.,  32.,  39.,  42.,  47.,  58.,  72.,  94.,  76.,  99.,\n",
       "        101., 102., 125., 144., 174., 190., 194., 216., 233., 232., 250.,\n",
       "        247., 275., 285., 313., 313., 292., 293., 327., 310., 306., 285.,\n",
       "        279., 300., 277., 287., 239., 257., 233., 216., 214., 183., 180.,\n",
       "        175., 148., 152., 133., 116.,  92.,  93.,  73.,  58.,  70.,  44.,\n",
       "         41.,  42.,  31.,  30.,  24.,  17.,  18.,  13.,   4.,   6.,   8.,\n",
       "          5.,   5.,   6.,   2.,   2.,   3.,   1.,   2.,   0.,   0.,   0.,\n",
       "          1.]),\n",
       " array([-6.03049755e+01, -5.82228407e+01, -5.61407060e+01, -5.40585712e+01,\n",
       "        -5.19764364e+01, -4.98943016e+01, -4.78121668e+01, -4.57300321e+01,\n",
       "        -4.36478973e+01, -4.15657625e+01, -3.94836277e+01, -3.74014929e+01,\n",
       "        -3.53193582e+01, -3.32372234e+01, -3.11550886e+01, -2.90729538e+01,\n",
       "        -2.69908190e+01, -2.49086843e+01, -2.28265495e+01, -2.07444147e+01,\n",
       "        -1.86622799e+01, -1.65801451e+01, -1.44980104e+01, -1.24158756e+01,\n",
       "        -1.03337408e+01, -8.25160601e+00, -6.16947123e+00, -4.08733645e+00,\n",
       "        -2.00520167e+00,  7.69331139e-02,  2.15906789e+00,  4.24120268e+00,\n",
       "         6.32333746e+00,  8.40547224e+00,  1.04876070e+01,  1.25697418e+01,\n",
       "         1.46518766e+01,  1.67340114e+01,  1.88161461e+01,  2.08982809e+01,\n",
       "         2.29804157e+01,  2.50625505e+01,  2.71446853e+01,  2.92268200e+01,\n",
       "         3.13089548e+01,  3.33910896e+01,  3.54732244e+01,  3.75553592e+01,\n",
       "         3.96374939e+01,  4.17196287e+01,  4.38017635e+01,  4.58838983e+01,\n",
       "         4.79660331e+01,  5.00481679e+01,  5.21303026e+01,  5.42124374e+01,\n",
       "         5.62945722e+01,  5.83767070e+01,  6.04588418e+01,  6.25409765e+01,\n",
       "         6.46231113e+01,  6.67052461e+01,  6.87873809e+01,  7.08695157e+01,\n",
       "         7.29516504e+01,  7.50337852e+01,  7.71159200e+01,  7.91980548e+01,\n",
       "         8.12801896e+01,  8.33623243e+01,  8.54444591e+01,  8.75265939e+01,\n",
       "         8.96087287e+01,  9.16908635e+01,  9.37729983e+01,  9.58551330e+01,\n",
       "         9.79372678e+01,  1.00019403e+02,  1.02101537e+02,  1.04183672e+02,\n",
       "         1.06265807e+02,  1.08347942e+02,  1.10430076e+02,  1.12512211e+02,\n",
       "         1.14594346e+02,  1.16676481e+02,  1.18758616e+02,  1.20840750e+02,\n",
       "         1.22922885e+02,  1.25005020e+02,  1.27087155e+02,  1.29169290e+02,\n",
       "         1.31251424e+02,  1.33333559e+02,  1.35415694e+02,  1.37497829e+02,\n",
       "         1.39579963e+02,  1.41662098e+02,  1.43744233e+02,  1.45826368e+02,\n",
       "         1.47908503e+02]),\n",
       " <BarContainer object of 100 artists>)"
      ]
     },
     "execution_count": 10,
     "metadata": {},
     "output_type": "execute_result"
    },
    {
     "data": {
      "image/png": "[encoded data removed]",
      "text/plain": [
       "<Figure size 432x288 with 1 Axes>"
      ]
     },
     "metadata": {
      "needs_background": "light"
     },
     "output_type": "display_data"
    }
   ],
   "source": [
    "\n",
    "Value4 = np.random.normal(loc=mean[4],scale=sd[4], size=10000)\n",
    "plt.hist(Value4,100)"
   ]
  },
  {
   "cell_type": "code",
   "execution_count": 11,
   "metadata": {},
   "outputs": [
    {
     "data": {
      "text/plain": [
       "(array([    0.,     0.,     0.,     0.,     0.,     0.,     0.,     0.,\n",
       "            0.,     0.,     0.,     0.,     0.,     0.,     0.,     0.,\n",
       "            0.,     0.,     0.,     0.,     0.,     0.,     0.,     0.,\n",
       "            0.,     0.,     0.,     0.,     0.,     0.,     0.,     0.,\n",
       "            0.,     0.,     0.,     0.,     0.,     0.,     0.,     0.,\n",
       "            0.,     0.,     0.,     0.,     0.,     0.,     0.,     0.,\n",
       "            0.,     0., 10000.,     0.,     0.,     0.,     0.,     0.,\n",
       "            0.,     0.,     0.,     0.,     0.,     0.,     0.,     0.,\n",
       "            0.,     0.,     0.,     0.,     0.,     0.,     0.,     0.,\n",
       "            0.,     0.,     0.,     0.,     0.,     0.,     0.,     0.,\n",
       "            0.,     0.,     0.,     0.,     0.,     0.,     0.,     0.,\n",
       "            0.,     0.,     0.,     0.,     0.,     0.,     0.,     0.,\n",
       "            0.,     0.,     0.,     0.]),\n",
       " array([-0.5 , -0.49, -0.48, -0.47, -0.46, -0.45, -0.44, -0.43, -0.42,\n",
       "        -0.41, -0.4 , -0.39, -0.38, -0.37, -0.36, -0.35, -0.34, -0.33,\n",
       "        -0.32, -0.31, -0.3 , -0.29, -0.28, -0.27, -0.26, -0.25, -0.24,\n",
       "        -0.23, -0.22, -0.21, -0.2 , -0.19, -0.18, -0.17, -0.16, -0.15,\n",
       "        -0.14, -0.13, -0.12, -0.11, -0.1 , -0.09, -0.08, -0.07, -0.06,\n",
       "        -0.05, -0.04, -0.03, -0.02, -0.01,  0.  ,  0.01,  0.02,  0.03,\n",
       "         0.04,  0.05,  0.06,  0.07,  0.08,  0.09,  0.1 ,  0.11,  0.12,\n",
       "         0.13,  0.14,  0.15,  0.16,  0.17,  0.18,  0.19,  0.2 ,  0.21,\n",
       "         0.22,  0.23,  0.24,  0.25,  0.26,  0.27,  0.28,  0.29,  0.3 ,\n",
       "         0.31,  0.32,  0.33,  0.34,  0.35,  0.36,  0.37,  0.38,  0.39,\n",
       "         0.4 ,  0.41,  0.42,  0.43,  0.44,  0.45,  0.46,  0.47,  0.48,\n",
       "         0.49,  0.5 ]),\n",
       " <BarContainer object of 100 artists>)"
      ]
     },
     "execution_count": 11,
     "metadata": {},
     "output_type": "execute_result"
    },
    {
     "data": {
      "image/png": "[encoded data removed]",
      "text/plain": [
       "<Figure size 432x288 with 1 Axes>"
      ]
     },
     "metadata": {
      "needs_background": "light"
     },
     "output_type": "display_data"
    }
   ],
   "source": [
    "Value5 = np.random.normal(loc=mean[5],scale=sd[5], size=10000)\n",
    "plt.hist(Value5,100)"
   ]
  },
  {
   "cell_type": "code",
   "execution_count": 12,
   "metadata": {},
   "outputs": [
    {
     "data": {
      "text/plain": [
       "(array([  2.,   0.,   1.,   0.,   0.,   4.,   3.,   7.,   2.,   1.,   4.,\n",
       "          3.,   9.,  13.,   4.,   9.,  14.,  13.,  10.,  26.,  26.,  43.,\n",
       "         20.,  52.,  52.,  53.,  59.,  69.,  84.,  78.,  99.,  95., 128.,\n",
       "        137., 122., 159., 147., 177., 207., 204., 225., 237., 248., 240.,\n",
       "        258., 257., 302., 316., 311., 318., 288., 299., 274., 277., 308.,\n",
       "        241., 280., 262., 253., 246., 209., 211., 189., 180., 179., 156.,\n",
       "        168., 133., 116., 119., 102.,  87.,  78.,  61.,  61.,  44.,  47.,\n",
       "         50.,  30.,  26.,  33.,  23.,  27.,  20.,  13.,  15.,   6.,  11.,\n",
       "          4.,  10.,   2.,   2.,   3.,   0.,   3.,   0.,   1.,   2.,   1.,\n",
       "          2.]),\n",
       " array([-5.4292879 , -5.28295159, -5.13661529, -4.99027899, -4.84394269,\n",
       "        -4.69760638, -4.55127008, -4.40493378, -4.25859748, -4.11226117,\n",
       "        -3.96592487, -3.81958857, -3.67325227, -3.52691596, -3.38057966,\n",
       "        -3.23424336, -3.08790706, -2.94157075, -2.79523445, -2.64889815,\n",
       "        -2.50256184, -2.35622554, -2.20988924, -2.06355294, -1.91721663,\n",
       "        -1.77088033, -1.62454403, -1.47820773, -1.33187142, -1.18553512,\n",
       "        -1.03919882, -0.89286252, -0.74652621, -0.60018991, -0.45385361,\n",
       "        -0.30751731, -0.161181  , -0.0148447 ,  0.1314916 ,  0.2778279 ,\n",
       "         0.42416421,  0.57050051,  0.71683681,  0.86317312,  1.00950942,\n",
       "         1.15584572,  1.30218202,  1.44851833,  1.59485463,  1.74119093,\n",
       "         1.88752723,  2.03386354,  2.18019984,  2.32653614,  2.47287244,\n",
       "         2.61920875,  2.76554505,  2.91188135,  3.05821765,  3.20455396,\n",
       "         3.35089026,  3.49722656,  3.64356286,  3.78989917,  3.93623547,\n",
       "         4.08257177,  4.22890808,  4.37524438,  4.52158068,  4.66791698,\n",
       "         4.81425329,  4.96058959,  5.10692589,  5.25326219,  5.3995985 ,\n",
       "         5.5459348 ,  5.6922711 ,  5.8386074 ,  5.98494371,  6.13128001,\n",
       "         6.27761631,  6.42395261,  6.57028892,  6.71662522,  6.86296152,\n",
       "         7.00929783,  7.15563413,  7.30197043,  7.44830673,  7.59464304,\n",
       "         7.74097934,  7.88731564,  8.03365194,  8.17998825,  8.32632455,\n",
       "         8.47266085,  8.61899715,  8.76533346,  8.91166976,  9.05800606,\n",
       "         9.20434236]),\n",
       " <BarContainer object of 100 artists>)"
      ]
     },
     "execution_count": 12,
     "metadata": {},
     "output_type": "execute_result"
    },
    {
     "data": {
      "image/png": "[encoded data removed]",
      "text/plain": [
       "<Figure size 432x288 with 1 Axes>"
      ]
     },
     "metadata": {
      "needs_background": "light"
     },
     "output_type": "display_data"
    }
   ],
   "source": [
    "Value6 = np.random.normal(loc=mean[6],scale=sd[6], size=10000)\n",
    "plt.hist(Value6,100)"
   ]
  },
  {
   "cell_type": "code",
   "execution_count": 13,
   "metadata": {},
   "outputs": [
    {
     "data": {
      "text/plain": [
       "(array([  1.,   0.,   1.,   0.,   2.,   3.,   2.,   2.,   2.,   0.,   1.,\n",
       "          4.,   2.,   5.,   9.,   7.,  13.,  12.,  10.,  22.,  27.,  27.,\n",
       "         29.,  35.,  44.,  50.,  47.,  64.,  81.,  92.,  99., 104., 132.,\n",
       "        135., 154., 170., 185., 206., 212., 232., 265., 256., 242., 282.,\n",
       "        261., 313., 319., 336., 289., 313., 296., 306., 304., 300., 267.,\n",
       "        290., 250., 287., 258., 249., 218., 199., 170., 167., 179., 155.,\n",
       "        132.,  96., 103., 100.,  94.,  79.,  50.,  47.,  45.,  46.,  31.,\n",
       "         34.,  32.,  16.,  15.,  15.,  12.,  16.,   8.,   3.,   7.,   6.,\n",
       "          4.,   6.,   3.,   0.,   2.,   2.,   1.,   0.,   0.,   0.,   0.,\n",
       "          1.]),\n",
       " array([-694.04880927, -671.44528926, -648.84176924, -626.23824922,\n",
       "        -603.63472921, -581.03120919, -558.42768917, -535.82416915,\n",
       "        -513.22064914, -490.61712912, -468.0136091 , -445.41008909,\n",
       "        -422.80656907, -400.20304905, -377.59952904, -354.99600902,\n",
       "        -332.392489  , -309.78896899, -287.18544897, -264.58192895,\n",
       "        -241.97840894, -219.37488892, -196.7713689 , -174.16784888,\n",
       "        -151.56432887, -128.96080885, -106.35728883,  -83.75376882,\n",
       "         -61.1502488 ,  -38.54672878,  -15.94320877,    6.66031125,\n",
       "          29.26383127,   51.86735128,   74.4708713 ,   97.07439132,\n",
       "         119.67791133,  142.28143135,  164.88495137,  187.48847138,\n",
       "         210.0919914 ,  232.69551142,  255.29903144,  277.90255145,\n",
       "         300.50607147,  323.10959149,  345.7131115 ,  368.31663152,\n",
       "         390.92015154,  413.52367155,  436.12719157,  458.73071159,\n",
       "         481.3342316 ,  503.93775162,  526.54127164,  549.14479165,\n",
       "         571.74831167,  594.35183169,  616.95535171,  639.55887172,\n",
       "         662.16239174,  684.76591176,  707.36943177,  729.97295179,\n",
       "         752.57647181,  775.17999182,  797.78351184,  820.38703186,\n",
       "         842.99055187,  865.59407189,  888.19759191,  910.80111192,\n",
       "         933.40463194,  956.00815196,  978.61167197, 1001.21519199,\n",
       "        1023.81871201, 1046.42223203, 1069.02575204, 1091.62927206,\n",
       "        1114.23279208, 1136.83631209, 1159.43983211, 1182.04335213,\n",
       "        1204.64687214, 1227.25039216, 1249.85391218, 1272.45743219,\n",
       "        1295.06095221, 1317.66447223, 1340.26799224, 1362.87151226,\n",
       "        1385.47503228, 1408.07855229, 1430.68207231, 1453.28559233,\n",
       "        1475.88911235, 1498.49263236, 1521.09615238, 1543.6996724 ,\n",
       "        1566.30319241]),\n",
       " <BarContainer object of 100 artists>)"
      ]
     },
     "execution_count": 13,
     "metadata": {},
     "output_type": "execute_result"
    },
    {
     "data": {
      "image/png": "[encoded data removed]",
      "text/plain": [
       "<Figure size 432x288 with 1 Axes>"
      ]
     },
     "metadata": {
      "needs_background": "light"
     },
     "output_type": "display_data"
    }
   ],
   "source": [
    "Value7 = np.random.normal(loc=mean[7],scale=sd[7], size=10000)\n",
    "plt.hist(Value7,100)"
   ]
  },
  {
   "cell_type": "code",
   "execution_count": null,
   "metadata": {},
   "outputs": [],
   "source": [
    "#Number of Open Complaints are not normal.we should transform in to that."
   ]
  },
  {
   "cell_type": "code",
   "execution_count": 61,
   "metadata": {},
   "outputs": [],
   "source": [
    "numerical['Number of Open Complaints']=np.log(numerical['Number of Open Complaints'])"
   ]
  },
  {
   "cell_type": "code",
   "execution_count": 62,
   "metadata": {},
   "outputs": [
    {
     "data": {
      "text/plain": [
       "0            NaN\n",
       "1            NaN\n",
       "2            NaN\n",
       "3            NaN\n",
       "4            NaN\n",
       "          ...   \n",
       "9129         NaN\n",
       "9130         NaN\n",
       "9131    1.098612\n",
       "9132         NaN\n",
       "9133         NaN\n",
       "Name: Number of Open Complaints, Length: 9134, dtype: float64"
      ]
     },
     "execution_count": 62,
     "metadata": {},
     "output_type": "execute_result"
    }
   ],
   "source": [
    "numerical['Number of Open Complaints']"
   ]
  },
  {
   "cell_type": "code",
   "execution_count": null,
   "metadata": {},
   "outputs": [],
   "source": []
  }
 ],
 "metadata": {
  "kernelspec": {
   "display_name": "Python 3",
   "language": "python",
   "name": "python3"
  },
  "language_info": {
   "codemirror_mode": {
    "name": "ipython",
    "version": 3
   },
   "file_extension": ".py",
   "mimetype": "text/x-python",
   "name": "python",
   "nbconvert_exporter": "python",
   "pygments_lexer": "ipython3",
   "version": "3.8.5"
  }
 },
 "nbformat": 4,
 "nbformat_minor": 4
}
